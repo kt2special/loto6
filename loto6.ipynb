{
 "cells": [
  {
   "cell_type": "code",
   "execution_count": 1,
   "id": "4b8ede5d-c8d7-4e8d-9555-dbcec50a2b64",
   "metadata": {},
   "outputs": [
    {
     "name": "stdout",
     "output_type": "stream",
     "text": [
      "今回の除外数字は\n",
      "[14, 4, 30, 25, 36, 1, 18, 11, 33, 31, 17, 40, 41, 34, 7, 29, 13, 9, 1, 9, 11, 14, 15, 40, 32, 1, 40, 41, 42, 43]\n",
      "除外して残った今回の数字は\n",
      "[2, 3, 5, 6, 8, 10, 12, 16, 19, 20, 21, 22, 23, 24, 26, 27, 28, 35, 37, 38, 39]\n"
     ]
    }
   ],
   "source": [
    "import requests\n",
    "import random\n",
    "from bs4 import BeautifulSoup\n",
    "import pandas as pd\n",
    "import time\n",
    "from selenium import webdriver\n",
    "from selenium.webdriver.common.by import By\n",
    "from selenium.webdriver.support.ui import WebDriverWait\n",
    "from selenium.webdriver.support import expected_conditions as EC\n",
    "\n",
    "#Webサイトを２つスクレイピングする\n",
    "a_driver = webdriver.Chrome()\n",
    "a_driver.get(\"https://www.mizuhobank.co.jp/retail/takarakuji/check/loto/loto6/index.html\")\n",
    "a_wait = WebDriverWait(a_driver, 10)\n",
    "a_wait.until(EC.invisibility_of_element_located((By.CLASS_NAME,'js-now-loading')))\n",
    "a_html = a_driver.page_source.encode('utf-8')\n",
    "a_soup = BeautifulSoup(a_html,'html.parser')\n",
    "\n",
    "b_driver = webdriver.Chrome()\n",
    "b_driver.get(\"https://forincs.com/loto/loto6_winnum.php\")\n",
    "WebDriverWait(b_driver, 10).until(EC.presence_of_all_elements_located)\n",
    "b_html = b_driver.page_source.encode('utf-8')\n",
    "b_soup = BeautifulSoup(b_html,'html.parser')\n",
    "\n",
    "#総出現回数の下から1８位までの数字を消去する\n",
    "mini_numbers = b_soup.find_all('td',class_='tbd_td_p1_c right')\n",
    "mini1 = mini_numbers[::3]\n",
    "mini2= mini1[-18:]\n",
    "mini3 = mini2[0]\n",
    "mini3 = mini3.text.replace('\\n','')\n",
    "removeloto6 = []\n",
    "for mini3 in mini2:\n",
    "    removeloto6.append(int(mini3.text))\n",
    "    \n",
    "#前回の当選数字を消去し配列からランダムで結果を表示する\n",
    "numbers = a_soup.find_all('strong',class_='js-lottery-number-pc')[0:6]\n",
    "bnumber = a_soup.find('dd',class_='js-lottery-bonus-sp')\n",
    "number = numbers[0]\n",
    "loto6 = list(range(1,44))\n",
    "for number in numbers:\n",
    "    removeloto6.append(int(number.text))\n",
    "    \n",
    "removeloto6.append(int(bnumber.text))\n",
    "\n",
    "#その他に除外したい数字があれば入力する\n",
    "removeloto6.extend([1,40,41,42,43])\n",
    "\n",
    "print('今回の除外数字は')\n",
    "print(removeloto6)\n",
    "\n",
    "remained_loto6 = [i for i in loto6 if i not in removeloto6]\n",
    "print('除外して残った今回の数字は')\n",
    "print(remained_loto6 )"
   ]
  },
  {
   "cell_type": "code",
   "execution_count": 2,
   "id": "0f0ed4c5-7dd9-4fe1-8737-3dc152aa60ab",
   "metadata": {},
   "outputs": [
    {
     "name": "stdout",
     "output_type": "stream",
     "text": [
      "今回のLOTO6の予想結果は\n",
      "[35, 6, 37, 12, 28, 10]\n"
     ]
    }
   ],
   "source": [
    "#シャッフルして選択された数字に連続数字が含まれているならまたシャッフルする\n",
    "resultloto6 = random.sample(remained_loto6 ,6)\n",
    "resultloto6 = random.sample(remained_loto6 ,6)\n",
    "resultloto6 = random.sample(remained_loto6 ,6)\n",
    "a=resultloto6[0]\n",
    "b=resultloto6[1]\n",
    "c=resultloto6[2]\n",
    "d=resultloto6[3]\n",
    "e=resultloto6[4]\n",
    "f=resultloto6[5]\n",
    "i=0\n",
    "while i==0:\n",
    "    if (a==b+1 or a==c+1 or a==d+1 or a==e+1 or a==f+1 or\n",
    "        b==a+1 or b==c+1 or b==d+1 or b==e+1 or b==f+1 or\n",
    "        c==a+1 or c==b+1 or c==d+1 or c==e+1 or c==f+1 or\n",
    "        d==a+1 or d==b+1 or d==c+1 or d==e+1 or d==f+1 or\n",
    "        e==a+1 or e==b+1 or e==c+1 or e==d+1 or e==f+1 or\n",
    "        f==a+1 or f==b+1 or f==c+1 or f==d+1 or f==e+1):\n",
    "        resultloto6 = random.sample(remained_loto6 ,6)\n",
    "        a=resultloto6[0]\n",
    "        b=resultloto6[1]\n",
    "        c=resultloto6[2]\n",
    "        d=resultloto6[3]\n",
    "        e=resultloto6[4]\n",
    "        f=resultloto6[5]\n",
    "    else:\n",
    "        break\n",
    "        \n",
    "print('今回のLOTO6の予想結果は')\n",
    "print(resultloto6)"
   ]
  },
  {
   "cell_type": "code",
   "execution_count": null,
   "id": "e5211713-a80e-46ca-86e4-13a5eed1bfdd",
   "metadata": {},
   "outputs": [],
   "source": []
  },
  {
   "cell_type": "code",
   "execution_count": null,
   "id": "780488dc-f2c4-410c-992a-72a63a33a758",
   "metadata": {},
   "outputs": [],
   "source": []
  }
 ],
 "metadata": {
  "kernelspec": {
   "display_name": "Python 3 (ipykernel)",
   "language": "python",
   "name": "python3"
  },
  "language_info": {
   "codemirror_mode": {
    "name": "ipython",
    "version": 3
   },
   "file_extension": ".py",
   "mimetype": "text/x-python",
   "name": "python",
   "nbconvert_exporter": "python",
   "pygments_lexer": "ipython3",
   "version": "3.10.8"
  }
 },
 "nbformat": 4,
 "nbformat_minor": 5
}
